{
 "cells": [
  {
   "cell_type": "markdown",
   "id": "d893b7b7-f940-4791-9068-733deaa3cfd3",
   "metadata": {},
   "source": [
    "# Data Mining practice and reference\n",
    "\n",
    "The methods are applied on income dataset downloaded from:\n",
    "\n",
    "https://www.kaggle.com/ahmettezcantekin/beginner-datasets"
   ]
  },
  {
   "cell_type": "code",
   "execution_count": 1,
   "id": "eb7105bc-4232-49d0-8e1d-970f818cb3e8",
   "metadata": {},
   "outputs": [],
   "source": [
    "import pandas as pd\n",
    "import numpy as np\n",
    "import matplotlib.pyplot as plt\n",
    "from IPython.display import display\n",
    "import seaborn as sns\n",
    "import math\n",
    "import missingno as msno # for missing value visualizations\n",
    "from typing import List # for typing hints\n",
    "import collections # for ordered dict\n",
    "import itertools # for combinations"
   ]
  },
  {
   "cell_type": "markdown",
   "id": "131f0eb9-7cf1-48d0-808a-0c9dc2205e19",
   "metadata": {},
   "source": [
    "## Initial exploration"
   ]
  },
  {
   "cell_type": "code",
   "execution_count": 2,
   "id": "c436a786-0ecc-4708-8040-4384847575c1",
   "metadata": {},
   "outputs": [
    {
     "data": {
      "text/html": [
       "<div>\n",
       "<style scoped>\n",
       "    .dataframe tbody tr th:only-of-type {\n",
       "        vertical-align: middle;\n",
       "    }\n",
       "\n",
       "    .dataframe tbody tr th {\n",
       "        vertical-align: top;\n",
       "    }\n",
       "\n",
       "    .dataframe thead th {\n",
       "        text-align: right;\n",
       "    }\n",
       "</style>\n",
       "<table border=\"1\" class=\"dataframe\">\n",
       "  <thead>\n",
       "    <tr style=\"text-align: right;\">\n",
       "      <th></th>\n",
       "      <th>age</th>\n",
       "      <th>workclass</th>\n",
       "      <th>education</th>\n",
       "      <th>education-num</th>\n",
       "      <th>marital-status</th>\n",
       "      <th>occupation</th>\n",
       "      <th>relationship</th>\n",
       "      <th>race</th>\n",
       "      <th>sex</th>\n",
       "      <th>capital-gain</th>\n",
       "      <th>capital-loss</th>\n",
       "      <th>hours-per-week</th>\n",
       "      <th>native-country</th>\n",
       "      <th>income &gt;50K</th>\n",
       "    </tr>\n",
       "  </thead>\n",
       "  <tbody>\n",
       "    <tr>\n",
       "      <th>0</th>\n",
       "      <td>39</td>\n",
       "      <td>State-gov</td>\n",
       "      <td>Bachelors</td>\n",
       "      <td>13</td>\n",
       "      <td>Never-married</td>\n",
       "      <td>Adm-clerical</td>\n",
       "      <td>Not-in-family</td>\n",
       "      <td>White</td>\n",
       "      <td>Male</td>\n",
       "      <td>2174</td>\n",
       "      <td>0</td>\n",
       "      <td>40</td>\n",
       "      <td>United-States</td>\n",
       "      <td>0</td>\n",
       "    </tr>\n",
       "    <tr>\n",
       "      <th>1</th>\n",
       "      <td>50</td>\n",
       "      <td>Self-emp-not-inc</td>\n",
       "      <td>Bachelors</td>\n",
       "      <td>13</td>\n",
       "      <td>Married-civ-spouse</td>\n",
       "      <td>Exec-managerial</td>\n",
       "      <td>Husband</td>\n",
       "      <td>White</td>\n",
       "      <td>Male</td>\n",
       "      <td>0</td>\n",
       "      <td>0</td>\n",
       "      <td>13</td>\n",
       "      <td>United-States</td>\n",
       "      <td>0</td>\n",
       "    </tr>\n",
       "    <tr>\n",
       "      <th>2</th>\n",
       "      <td>38</td>\n",
       "      <td>Private</td>\n",
       "      <td>HS-grad</td>\n",
       "      <td>9</td>\n",
       "      <td>Divorced</td>\n",
       "      <td>Handlers-cleaners</td>\n",
       "      <td>Not-in-family</td>\n",
       "      <td>White</td>\n",
       "      <td>Male</td>\n",
       "      <td>0</td>\n",
       "      <td>0</td>\n",
       "      <td>40</td>\n",
       "      <td>United-States</td>\n",
       "      <td>0</td>\n",
       "    </tr>\n",
       "    <tr>\n",
       "      <th>3</th>\n",
       "      <td>53</td>\n",
       "      <td>Private</td>\n",
       "      <td>11th</td>\n",
       "      <td>7</td>\n",
       "      <td>Married-civ-spouse</td>\n",
       "      <td>Handlers-cleaners</td>\n",
       "      <td>Husband</td>\n",
       "      <td>Black</td>\n",
       "      <td>Male</td>\n",
       "      <td>0</td>\n",
       "      <td>0</td>\n",
       "      <td>40</td>\n",
       "      <td>United-States</td>\n",
       "      <td>0</td>\n",
       "    </tr>\n",
       "    <tr>\n",
       "      <th>4</th>\n",
       "      <td>28</td>\n",
       "      <td>Private</td>\n",
       "      <td>Bachelors</td>\n",
       "      <td>13</td>\n",
       "      <td>Married-civ-spouse</td>\n",
       "      <td>Prof-specialty</td>\n",
       "      <td>Wife</td>\n",
       "      <td>Black</td>\n",
       "      <td>Female</td>\n",
       "      <td>0</td>\n",
       "      <td>0</td>\n",
       "      <td>40</td>\n",
       "      <td>Cuba</td>\n",
       "      <td>0</td>\n",
       "    </tr>\n",
       "  </tbody>\n",
       "</table>\n",
       "</div>"
      ],
      "text/plain": [
       "   age         workclass  education  education-num      marital-status  \\\n",
       "0   39         State-gov  Bachelors             13       Never-married   \n",
       "1   50  Self-emp-not-inc  Bachelors             13  Married-civ-spouse   \n",
       "2   38           Private    HS-grad              9            Divorced   \n",
       "3   53           Private       11th              7  Married-civ-spouse   \n",
       "4   28           Private  Bachelors             13  Married-civ-spouse   \n",
       "\n",
       "          occupation   relationship   race     sex  capital-gain  \\\n",
       "0       Adm-clerical  Not-in-family  White    Male          2174   \n",
       "1    Exec-managerial        Husband  White    Male             0   \n",
       "2  Handlers-cleaners  Not-in-family  White    Male             0   \n",
       "3  Handlers-cleaners        Husband  Black    Male             0   \n",
       "4     Prof-specialty           Wife  Black  Female             0   \n",
       "\n",
       "   capital-loss  hours-per-week native-country  income >50K  \n",
       "0             0              40  United-States            0  \n",
       "1             0              13  United-States            0  \n",
       "2             0              40  United-States            0  \n",
       "3             0              40  United-States            0  \n",
       "4             0              40           Cuba            0  "
      ]
     },
     "execution_count": 2,
     "metadata": {},
     "output_type": "execute_result"
    }
   ],
   "source": [
    "df = pd.read_csv('data/income.csv')\n",
    "df.head()"
   ]
  },
  {
   "cell_type": "code",
   "execution_count": 3,
   "id": "3b0c7bed-dfaa-4b07-9aaa-0e347dd2f7a3",
   "metadata": {},
   "outputs": [
    {
     "data": {
      "text/plain": [
       "OrderedDict([(1, 'Preschool'),\n",
       "             (2, '1st-4th'),\n",
       "             (3, '5th-6th'),\n",
       "             (4, '7th-8th'),\n",
       "             (5, '9th'),\n",
       "             (6, '10th'),\n",
       "             (7, '11th'),\n",
       "             (8, '12th'),\n",
       "             (9, 'HS-grad'),\n",
       "             (10, 'Some-college'),\n",
       "             (11, 'Assoc-voc'),\n",
       "             (12, 'Assoc-acdm'),\n",
       "             (13, 'Bachelors'),\n",
       "             (14, 'Masters'),\n",
       "             (15, 'Prof-school'),\n",
       "             (16, 'Doctorate')])"
      ]
     },
     "execution_count": 3,
     "metadata": {},
     "output_type": "execute_result"
    }
   ],
   "source": [
    "education_dict = {x['education-num']:x['education'] for i, x in df.iterrows()}\n",
    "education_dict_ordered = collections.OrderedDict(sorted(education_dict.items()))\n",
    "education_dict_ordered"
   ]
  },
  {
   "cell_type": "code",
   "execution_count": 4,
   "id": "ed790ad0-d2b8-4019-9b74-d43d41e21935",
   "metadata": {
    "tags": []
   },
   "outputs": [
    {
     "name": "stdout",
     "output_type": "stream",
     "text": [
      "<class 'pandas.core.frame.DataFrame'>\n",
      "RangeIndex: 32561 entries, 0 to 32560\n",
      "Data columns (total 14 columns):\n",
      " #   Column          Non-Null Count  Dtype \n",
      "---  ------          --------------  ----- \n",
      " 0   age             32561 non-null  int64 \n",
      " 1   workclass       30725 non-null  object\n",
      " 2   education       32561 non-null  object\n",
      " 3   education-num   32561 non-null  int64 \n",
      " 4   marital-status  32561 non-null  object\n",
      " 5   occupation      30718 non-null  object\n",
      " 6   relationship    32561 non-null  object\n",
      " 7   race            32561 non-null  object\n",
      " 8   sex             32561 non-null  object\n",
      " 9   capital-gain    32561 non-null  int64 \n",
      " 10  capital-loss    32561 non-null  int64 \n",
      " 11  hours-per-week  32561 non-null  int64 \n",
      " 12  native-country  31978 non-null  object\n",
      " 13  income >50K     32561 non-null  int64 \n",
      "dtypes: int64(6), object(8)\n",
      "memory usage: 3.5+ MB\n"
     ]
    }
   ],
   "source": [
    "df.info()"
   ]
  },
  {
   "cell_type": "markdown",
   "id": "ea0c9273-f242-4b5e-b9a5-80eb0781843d",
   "metadata": {
    "tags": []
   },
   "source": [
    "## Data Preprocessing"
   ]
  },
  {
   "cell_type": "markdown",
   "id": "352f8855-a2f6-4ee2-89eb-f9bd4acd92ae",
   "metadata": {},
   "source": [
    "Casting to correct data types."
   ]
  },
  {
   "cell_type": "code",
   "execution_count": 5,
   "id": "f3854b19-337a-460b-bcbe-ea35c9d029bf",
   "metadata": {},
   "outputs": [
    {
     "name": "stdout",
     "output_type": "stream",
     "text": [
      "<class 'pandas.core.frame.DataFrame'>\n",
      "RangeIndex: 32561 entries, 0 to 32560\n",
      "Data columns (total 14 columns):\n",
      " #   Column          Non-Null Count  Dtype   \n",
      "---  ------          --------------  -----   \n",
      " 0   age             32561 non-null  int64   \n",
      " 1   workclass       30725 non-null  category\n",
      " 2   education       32561 non-null  category\n",
      " 3   education-num   32561 non-null  int64   \n",
      " 4   marital-status  32561 non-null  category\n",
      " 5   occupation      30718 non-null  category\n",
      " 6   relationship    32561 non-null  category\n",
      " 7   race            32561 non-null  category\n",
      " 8   sex             32561 non-null  category\n",
      " 9   capital-gain    32561 non-null  int64   \n",
      " 10  capital-loss    32561 non-null  int64   \n",
      " 11  hours-per-week  32561 non-null  int64   \n",
      " 12  native-country  31978 non-null  category\n",
      " 13  income >50K     32561 non-null  category\n",
      "dtypes: category(9), int64(5)\n",
      "memory usage: 1.5 MB\n"
     ]
    }
   ],
   "source": [
    "df['workclass'] = df['workclass'].astype('category')\n",
    "df['education'] = df['education'].astype('category')\n",
    "df['marital-status'] = df['marital-status'].astype('category')\n",
    "df['occupation'] = df['occupation'].astype('category')\n",
    "df['relationship'] = df['relationship'].astype('category')\n",
    "df['race'] = df['race'].astype('category')\n",
    "df['sex'] = df['sex'].astype('category')\n",
    "df['native-country'] = df['native-country'].astype('category')\n",
    "df['income >50K'] = df['income >50K'].astype('category')\n",
    "\n",
    "df.info()"
   ]
  },
  {
   "cell_type": "code",
   "execution_count": 6,
   "id": "b65ef5d1-be68-4177-bfe1-257452abc04c",
   "metadata": {
    "tags": []
   },
   "outputs": [
    {
     "data": {
      "text/html": [
       "<div>\n",
       "<style scoped>\n",
       "    .dataframe tbody tr th:only-of-type {\n",
       "        vertical-align: middle;\n",
       "    }\n",
       "\n",
       "    .dataframe tbody tr th {\n",
       "        vertical-align: top;\n",
       "    }\n",
       "\n",
       "    .dataframe thead th {\n",
       "        text-align: right;\n",
       "    }\n",
       "</style>\n",
       "<table border=\"1\" class=\"dataframe\">\n",
       "  <thead>\n",
       "    <tr style=\"text-align: right;\">\n",
       "      <th></th>\n",
       "      <th>age</th>\n",
       "      <th>education-num</th>\n",
       "      <th>capital-gain</th>\n",
       "      <th>capital-loss</th>\n",
       "      <th>hours-per-week</th>\n",
       "    </tr>\n",
       "  </thead>\n",
       "  <tbody>\n",
       "    <tr>\n",
       "      <th>count</th>\n",
       "      <td>32561.000000</td>\n",
       "      <td>32561.000000</td>\n",
       "      <td>32561.000000</td>\n",
       "      <td>32561.000000</td>\n",
       "      <td>32561.000000</td>\n",
       "    </tr>\n",
       "    <tr>\n",
       "      <th>mean</th>\n",
       "      <td>38.581647</td>\n",
       "      <td>10.080679</td>\n",
       "      <td>1077.648844</td>\n",
       "      <td>87.303830</td>\n",
       "      <td>40.437456</td>\n",
       "    </tr>\n",
       "    <tr>\n",
       "      <th>std</th>\n",
       "      <td>13.640433</td>\n",
       "      <td>2.572720</td>\n",
       "      <td>7385.292085</td>\n",
       "      <td>402.960219</td>\n",
       "      <td>12.347429</td>\n",
       "    </tr>\n",
       "    <tr>\n",
       "      <th>min</th>\n",
       "      <td>17.000000</td>\n",
       "      <td>1.000000</td>\n",
       "      <td>0.000000</td>\n",
       "      <td>0.000000</td>\n",
       "      <td>1.000000</td>\n",
       "    </tr>\n",
       "    <tr>\n",
       "      <th>25%</th>\n",
       "      <td>28.000000</td>\n",
       "      <td>9.000000</td>\n",
       "      <td>0.000000</td>\n",
       "      <td>0.000000</td>\n",
       "      <td>40.000000</td>\n",
       "    </tr>\n",
       "    <tr>\n",
       "      <th>50%</th>\n",
       "      <td>37.000000</td>\n",
       "      <td>10.000000</td>\n",
       "      <td>0.000000</td>\n",
       "      <td>0.000000</td>\n",
       "      <td>40.000000</td>\n",
       "    </tr>\n",
       "    <tr>\n",
       "      <th>75%</th>\n",
       "      <td>48.000000</td>\n",
       "      <td>12.000000</td>\n",
       "      <td>0.000000</td>\n",
       "      <td>0.000000</td>\n",
       "      <td>45.000000</td>\n",
       "    </tr>\n",
       "    <tr>\n",
       "      <th>max</th>\n",
       "      <td>90.000000</td>\n",
       "      <td>16.000000</td>\n",
       "      <td>99999.000000</td>\n",
       "      <td>4356.000000</td>\n",
       "      <td>99.000000</td>\n",
       "    </tr>\n",
       "  </tbody>\n",
       "</table>\n",
       "</div>"
      ],
      "text/plain": [
       "                age  education-num  capital-gain  capital-loss  hours-per-week\n",
       "count  32561.000000   32561.000000  32561.000000  32561.000000    32561.000000\n",
       "mean      38.581647      10.080679   1077.648844     87.303830       40.437456\n",
       "std       13.640433       2.572720   7385.292085    402.960219       12.347429\n",
       "min       17.000000       1.000000      0.000000      0.000000        1.000000\n",
       "25%       28.000000       9.000000      0.000000      0.000000       40.000000\n",
       "50%       37.000000      10.000000      0.000000      0.000000       40.000000\n",
       "75%       48.000000      12.000000      0.000000      0.000000       45.000000\n",
       "max       90.000000      16.000000  99999.000000   4356.000000       99.000000"
      ]
     },
     "execution_count": 6,
     "metadata": {},
     "output_type": "execute_result"
    }
   ],
   "source": [
    "df.describe()"
   ]
  },
  {
   "cell_type": "code",
   "execution_count": null,
   "id": "45c181b1-1b86-44fb-8f7c-d937a269dfd9",
   "metadata": {},
   "outputs": [],
   "source": []
  },
  {
   "cell_type": "markdown",
   "id": "2c483eca-0e01-437d-95a6-74babc81ba70",
   "metadata": {},
   "source": [
    "### Handling missing data"
   ]
  },
  {
   "cell_type": "code",
   "execution_count": 7,
   "id": "5faf4f01-a947-4d8d-9204-6fe55bfd355b",
   "metadata": {},
   "outputs": [
    {
     "data": {
      "text/plain": [
       "True"
      ]
     },
     "execution_count": 7,
     "metadata": {},
     "output_type": "execute_result"
    }
   ],
   "source": [
    "df.isnull().values.any()"
   ]
  },
  {
   "cell_type": "code",
   "execution_count": 8,
   "id": "0765c607-0184-4ef2-9e3c-7a5878f3b95f",
   "metadata": {},
   "outputs": [
    {
     "data": {
      "text/plain": [
       "workclass         1836\n",
       "occupation        1843\n",
       "native-country     583\n",
       "dtype: int64"
      ]
     },
     "execution_count": 8,
     "metadata": {},
     "output_type": "execute_result"
    }
   ],
   "source": [
    "s = df.isnull().sum()\n",
    "s[s != 0] # columns with missing values and how many missing values they contain"
   ]
  },
  {
   "cell_type": "code",
   "execution_count": 9,
   "id": "5e3875de-6e9b-43ff-a433-2b67337ed2f9",
   "metadata": {},
   "outputs": [
    {
     "data": {
      "text/plain": [
       "32561"
      ]
     },
     "execution_count": 9,
     "metadata": {},
     "output_type": "execute_result"
    }
   ],
   "source": [
    "len(df.index) # record count"
   ]
  },
  {
   "cell_type": "code",
   "execution_count": 10,
   "id": "1aa2f7a7-f128-42f7-bd17-9aaf13423f18",
   "metadata": {},
   "outputs": [
    {
     "data": {
      "text/plain": [
       "workclass         0.056386\n",
       "occupation        0.056601\n",
       "native-country    0.017905\n",
       "dtype: float64"
      ]
     },
     "execution_count": 10,
     "metadata": {},
     "output_type": "execute_result"
    }
   ],
   "source": [
    "s[s != 0] / len(df.index) # missing values relative to all values"
   ]
  },
  {
   "cell_type": "markdown",
   "id": "62e3fa8c-901e-4457-ad2b-2cbb6b4d08f5",
   "metadata": {},
   "source": [
    "All columns containing missing values are categorical. The highest missing value column is the workclass column with around 5.6% of values missing. Work class and occupation show almost equal amount of null values, hence further exploration is carried out."
   ]
  },
  {
   "cell_type": "code",
   "execution_count": 11,
   "id": "9af85dd1-3607-4bda-b862-1f5b0b6c437b",
   "metadata": {},
   "outputs": [
    {
     "data": {
      "text/plain": [
       "<AxesSubplot:>"
      ]
     },
     "execution_count": 11,
     "metadata": {},
     "output_type": "execute_result"
    },
    {
     "data": {
      "image/png": "[encoded data removed]",
      "text/plain": [
       "<Figure size 1800x720 with 2 Axes>"
      ]
     },
     "metadata": {
      "needs_background": "light"
     },
     "output_type": "display_data"
    }
   ],
   "source": [
    "msno.matrix(df[s[s != 0].index])"
   ]
  },
  {
   "cell_type": "markdown",
   "id": "158f9c67-696a-44b0-a3b2-df235d0c7831",
   "metadata": {},
   "source": [
    "The above plot shows that values in columns work class and occupation are missing in similar places. Occupation has seven more values than work class. The occupation commonly determines one's work class; it can be therefore assumed that there is a strong correlation between the two columns; therefore, some missing values may be inferred. Since the missing values are around 5%, argument can be made for removing those values from the analysis."
   ]
  },
  {
   "cell_type": "code",
   "execution_count": 12,
   "id": "96a5d70c-1cda-4e58-b2c4-b88f5dbdd541",
   "metadata": {},
   "outputs": [
    {
     "data": {
      "text/html": [
       "<div>\n",
       "<style scoped>\n",
       "    .dataframe tbody tr th:only-of-type {\n",
       "        vertical-align: middle;\n",
       "    }\n",
       "\n",
       "    .dataframe tbody tr th {\n",
       "        vertical-align: top;\n",
       "    }\n",
       "\n",
       "    .dataframe thead th {\n",
       "        text-align: right;\n",
       "    }\n",
       "</style>\n",
       "<table border=\"1\" class=\"dataframe\">\n",
       "  <thead>\n",
       "    <tr style=\"text-align: right;\">\n",
       "      <th></th>\n",
       "      <th>workclass</th>\n",
       "      <th>occupation</th>\n",
       "    </tr>\n",
       "  </thead>\n",
       "  <tbody>\n",
       "    <tr>\n",
       "      <th>5361</th>\n",
       "      <td>Never-worked</td>\n",
       "      <td>NaN</td>\n",
       "    </tr>\n",
       "    <tr>\n",
       "      <th>10845</th>\n",
       "      <td>Never-worked</td>\n",
       "      <td>NaN</td>\n",
       "    </tr>\n",
       "    <tr>\n",
       "      <th>14772</th>\n",
       "      <td>Never-worked</td>\n",
       "      <td>NaN</td>\n",
       "    </tr>\n",
       "    <tr>\n",
       "      <th>20337</th>\n",
       "      <td>Never-worked</td>\n",
       "      <td>NaN</td>\n",
       "    </tr>\n",
       "    <tr>\n",
       "      <th>23232</th>\n",
       "      <td>Never-worked</td>\n",
       "      <td>NaN</td>\n",
       "    </tr>\n",
       "    <tr>\n",
       "      <th>32304</th>\n",
       "      <td>Never-worked</td>\n",
       "      <td>NaN</td>\n",
       "    </tr>\n",
       "    <tr>\n",
       "      <th>32314</th>\n",
       "      <td>Never-worked</td>\n",
       "      <td>NaN</td>\n",
       "    </tr>\n",
       "  </tbody>\n",
       "</table>\n",
       "</div>"
      ],
      "text/plain": [
       "          workclass occupation\n",
       "5361   Never-worked        NaN\n",
       "10845  Never-worked        NaN\n",
       "14772  Never-worked        NaN\n",
       "20337  Never-worked        NaN\n",
       "23232  Never-worked        NaN\n",
       "32304  Never-worked        NaN\n",
       "32314  Never-worked        NaN"
      ]
     },
     "execution_count": 12,
     "metadata": {},
     "output_type": "execute_result"
    }
   ],
   "source": [
    "df[(df['workclass'].notnull()) & (df['occupation'].isnull())][['workclass', 'occupation']]"
   ]
  },
  {
   "cell_type": "markdown",
   "id": "202c2334-5350-4c1c-83c7-7dfd382a3202",
   "metadata": {},
   "source": [
    "Further investigation shows, that **all Never-worked workclass has stated no occupation**, which makes sense. The categories take into account self-employment and enterprenurial optionsmissing values in occupation can be replaced by 'unemployed.'"
   ]
  },
  {
   "cell_type": "code",
   "execution_count": 13,
   "id": "db4cae20-d4c3-42f3-a2db-b8fcad2e8860",
   "metadata": {},
   "outputs": [
    {
     "data": {
      "text/html": [
       "<div>\n",
       "<style scoped>\n",
       "    .dataframe tbody tr th:only-of-type {\n",
       "        vertical-align: middle;\n",
       "    }\n",
       "\n",
       "    .dataframe tbody tr th {\n",
       "        vertical-align: top;\n",
       "    }\n",
       "\n",
       "    .dataframe thead th {\n",
       "        text-align: right;\n",
       "    }\n",
       "</style>\n",
       "<table border=\"1\" class=\"dataframe\">\n",
       "  <thead>\n",
       "    <tr style=\"text-align: right;\">\n",
       "      <th></th>\n",
       "      <th>age</th>\n",
       "      <th>workclass</th>\n",
       "      <th>education</th>\n",
       "      <th>education-num</th>\n",
       "      <th>marital-status</th>\n",
       "      <th>occupation</th>\n",
       "      <th>relationship</th>\n",
       "      <th>race</th>\n",
       "      <th>sex</th>\n",
       "      <th>capital-gain</th>\n",
       "      <th>capital-loss</th>\n",
       "      <th>hours-per-week</th>\n",
       "      <th>native-country</th>\n",
       "      <th>income &gt;50K</th>\n",
       "    </tr>\n",
       "  </thead>\n",
       "  <tbody>\n",
       "    <tr>\n",
       "      <th>5361</th>\n",
       "      <td>18</td>\n",
       "      <td>Never-worked</td>\n",
       "      <td>10th</td>\n",
       "      <td>6</td>\n",
       "      <td>Never-married</td>\n",
       "      <td>unemployed</td>\n",
       "      <td>Own-child</td>\n",
       "      <td>White</td>\n",
       "      <td>Male</td>\n",
       "      <td>0</td>\n",
       "      <td>0</td>\n",
       "      <td>40</td>\n",
       "      <td>United-States</td>\n",
       "      <td>0</td>\n",
       "    </tr>\n",
       "    <tr>\n",
       "      <th>10845</th>\n",
       "      <td>23</td>\n",
       "      <td>Never-worked</td>\n",
       "      <td>7th-8th</td>\n",
       "      <td>4</td>\n",
       "      <td>Divorced</td>\n",
       "      <td>unemployed</td>\n",
       "      <td>Not-in-family</td>\n",
       "      <td>White</td>\n",
       "      <td>Male</td>\n",
       "      <td>0</td>\n",
       "      <td>0</td>\n",
       "      <td>35</td>\n",
       "      <td>United-States</td>\n",
       "      <td>0</td>\n",
       "    </tr>\n",
       "    <tr>\n",
       "      <th>14772</th>\n",
       "      <td>17</td>\n",
       "      <td>Never-worked</td>\n",
       "      <td>10th</td>\n",
       "      <td>6</td>\n",
       "      <td>Never-married</td>\n",
       "      <td>unemployed</td>\n",
       "      <td>Own-child</td>\n",
       "      <td>White</td>\n",
       "      <td>Male</td>\n",
       "      <td>0</td>\n",
       "      <td>0</td>\n",
       "      <td>30</td>\n",
       "      <td>United-States</td>\n",
       "      <td>0</td>\n",
       "    </tr>\n",
       "    <tr>\n",
       "      <th>20337</th>\n",
       "      <td>18</td>\n",
       "      <td>Never-worked</td>\n",
       "      <td>11th</td>\n",
       "      <td>7</td>\n",
       "      <td>Never-married</td>\n",
       "      <td>unemployed</td>\n",
       "      <td>Own-child</td>\n",
       "      <td>White</td>\n",
       "      <td>Female</td>\n",
       "      <td>0</td>\n",
       "      <td>0</td>\n",
       "      <td>10</td>\n",
       "      <td>United-States</td>\n",
       "      <td>0</td>\n",
       "    </tr>\n",
       "    <tr>\n",
       "      <th>23232</th>\n",
       "      <td>20</td>\n",
       "      <td>Never-worked</td>\n",
       "      <td>Some-college</td>\n",
       "      <td>10</td>\n",
       "      <td>Never-married</td>\n",
       "      <td>unemployed</td>\n",
       "      <td>Own-child</td>\n",
       "      <td>Black</td>\n",
       "      <td>Male</td>\n",
       "      <td>0</td>\n",
       "      <td>0</td>\n",
       "      <td>40</td>\n",
       "      <td>United-States</td>\n",
       "      <td>0</td>\n",
       "    </tr>\n",
       "    <tr>\n",
       "      <th>32304</th>\n",
       "      <td>30</td>\n",
       "      <td>Never-worked</td>\n",
       "      <td>HS-grad</td>\n",
       "      <td>9</td>\n",
       "      <td>Married-civ-spouse</td>\n",
       "      <td>unemployed</td>\n",
       "      <td>Wife</td>\n",
       "      <td>Black</td>\n",
       "      <td>Female</td>\n",
       "      <td>0</td>\n",
       "      <td>0</td>\n",
       "      <td>40</td>\n",
       "      <td>United-States</td>\n",
       "      <td>0</td>\n",
       "    </tr>\n",
       "    <tr>\n",
       "      <th>32314</th>\n",
       "      <td>18</td>\n",
       "      <td>Never-worked</td>\n",
       "      <td>Some-college</td>\n",
       "      <td>10</td>\n",
       "      <td>Never-married</td>\n",
       "      <td>unemployed</td>\n",
       "      <td>Own-child</td>\n",
       "      <td>White</td>\n",
       "      <td>Male</td>\n",
       "      <td>0</td>\n",
       "      <td>0</td>\n",
       "      <td>4</td>\n",
       "      <td>United-States</td>\n",
       "      <td>0</td>\n",
       "    </tr>\n",
       "  </tbody>\n",
       "</table>\n",
       "</div>"
      ],
      "text/plain": [
       "       age     workclass     education  education-num      marital-status  \\\n",
       "5361    18  Never-worked          10th              6       Never-married   \n",
       "10845   23  Never-worked       7th-8th              4            Divorced   \n",
       "14772   17  Never-worked          10th              6       Never-married   \n",
       "20337   18  Never-worked          11th              7       Never-married   \n",
       "23232   20  Never-worked  Some-college             10       Never-married   \n",
       "32304   30  Never-worked       HS-grad              9  Married-civ-spouse   \n",
       "32314   18  Never-worked  Some-college             10       Never-married   \n",
       "\n",
       "       occupation   relationship   race     sex  capital-gain  capital-loss  \\\n",
       "5361   unemployed      Own-child  White    Male             0             0   \n",
       "10845  unemployed  Not-in-family  White    Male             0             0   \n",
       "14772  unemployed      Own-child  White    Male             0             0   \n",
       "20337  unemployed      Own-child  White  Female             0             0   \n",
       "23232  unemployed      Own-child  Black    Male             0             0   \n",
       "32304  unemployed           Wife  Black  Female             0             0   \n",
       "32314  unemployed      Own-child  White    Male             0             0   \n",
       "\n",
       "       hours-per-week native-country income >50K  \n",
       "5361               40  United-States           0  \n",
       "10845              35  United-States           0  \n",
       "14772              30  United-States           0  \n",
       "20337              10  United-States           0  \n",
       "23232              40  United-States           0  \n",
       "32304              40  United-States           0  \n",
       "32314               4  United-States           0  "
      ]
     },
     "execution_count": 13,
     "metadata": {},
     "output_type": "execute_result"
    }
   ],
   "source": [
    "try: \n",
    "    df['occupation'] = df['occupation'].cat.add_categories(['unemployed'])\n",
    "    df.loc[(df['workclass'].notnull()) & (df['occupation'].isnull()), 'occupation'] = 'unemployed'\n",
    "except ValueError as e:\n",
    "    pass\n",
    "df[(df['workclass'].notnull()) & (df['occupation'] == 'unemployed')] "
   ]
  },
  {
   "cell_type": "markdown",
   "id": "8f1f822c-d688-4d32-b101-6a1c90e0ddab",
   "metadata": {},
   "source": [
    "The above table shows the result of replacement. All unemployed people put some working hours per week, majority almost a full working week. Looking at eductaion and age, this can be explained by ongoing studies, or parent leave. Id **10845** put 35 hours per week, albeit unemployed, not in family and not ongoing education. One possible explanation of this the divorced marital status, if the individual has custody over his children."
   ]
  },
  {
   "cell_type": "code",
   "execution_count": 14,
   "id": "a4496c68-fb8f-48a6-a233-0a538f1d31d7",
   "metadata": {
    "tags": []
   },
   "outputs": [
    {
     "data": {
      "text/plain": [
       "count    32561.000000\n",
       "mean        40.437456\n",
       "std         12.347429\n",
       "min          1.000000\n",
       "25%         40.000000\n",
       "50%         40.000000\n",
       "75%         45.000000\n",
       "max         99.000000\n",
       "Name: hours-per-week, dtype: float64"
      ]
     },
     "execution_count": 14,
     "metadata": {},
     "output_type": "execute_result"
    }
   ],
   "source": [
    "# pd.qcut(df['hours-per-week'], q=4)\n",
    "df['hours-per-week'].describe()"
   ]
  },
  {
   "cell_type": "code",
   "execution_count": 15,
   "id": "0f9caf00-b719-46c7-a17d-b727e100a346",
   "metadata": {},
   "outputs": [
    {
     "data": {
      "text/plain": [
       "<AxesSubplot:title={'center':'occupation'}>"
      ]
     },
     "execution_count": 15,
     "metadata": {},
     "output_type": "execute_result"
    },
    {
     "data": {
      "image/png": "[encoded data removed]",
      "text/plain": [
       "<Figure size 360x360 with 1 Axes>"
      ]
     },
     "metadata": {
      "needs_background": "light"
     },
     "output_type": "display_data"
    }
   ],
   "source": [
    "try:\n",
    "    df['occupation'] = df['occupation'].cat.add_categories(['Not-stated'])\n",
    "    df['occupation'] = df['occupation'].fillna('Not-stated')\n",
    "except ValueError as e:\n",
    "    pass\n",
    "df['occupation'].value_counts().plot.barh(title='occupation', figsize=(5, 5)) # bar chart for exploration"
   ]
  },
  {
   "cell_type": "code",
   "execution_count": 16,
   "id": "c36e7725-a3bc-4c01-bea9-204e2074b86d",
   "metadata": {},
   "outputs": [
    {
     "data": {
      "text/plain": [
       "<AxesSubplot:title={'center':'work class'}>"
      ]
     },
     "metadata": {},
     "output_type": "display_data"
    },
    {
     "data": {
      "image/png": "[encoded data removed]",
      "text/plain": [
       "<Figure size 360x360 with 1 Axes>"
      ]
     },
     "metadata": {
      "needs_background": "light"
     },
     "output_type": "display_data"
    }
   ],
   "source": [
    "try:\n",
    "    df['workclass'] = df['workclass'].cat.add_categories(['Not-stated'])\n",
    "    df['workclass'] = df['workclass'].fillna('Not-stated')\n",
    "except ValueError as e:\n",
    "    pass\n",
    "display(df['workclass'].fillna('Not-stated').value_counts().plot.barh(title='work class', figsize=(5, 5)))"
   ]
  },
  {
   "cell_type": "markdown",
   "id": "812dece2-236f-4e70-9579-8611f3165df0",
   "metadata": {},
   "source": [
    "## Market Basket Analysis\n",
    "Exploring factor combinations linked to > 50K year income."
   ]
  },
  {
   "cell_type": "code",
   "execution_count": 17,
   "id": "536f5385-29d0-40e4-adbd-943500ee8270",
   "metadata": {},
   "outputs": [
    {
     "data": {
      "text/plain": [
       "count    32561.000000\n",
       "mean        38.581647\n",
       "std         13.640433\n",
       "min         17.000000\n",
       "25%         28.000000\n",
       "50%         37.000000\n",
       "75%         48.000000\n",
       "max         90.000000\n",
       "Name: age, dtype: float64"
      ]
     },
     "metadata": {},
     "output_type": "display_data"
    },
    {
     "data": {
      "text/plain": [
       "<AxesSubplot:ylabel='Frequency'>"
      ]
     },
     "metadata": {},
     "output_type": "display_data"
    },
    {
     "data": {
      "image/png": "[encoded data removed]",
      "text/plain": [
       "<Figure size 432x288 with 1 Axes>"
      ]
     },
     "metadata": {
      "needs_background": "light"
     },
     "output_type": "display_data"
    }
   ],
   "source": [
    "display(df['age'].describe())\n",
    "display(df['age'].plot.hist())"
   ]
  },
  {
   "cell_type": "code",
   "execution_count": 18,
   "id": "67fabe82-19e6-40b6-9da6-2e861a82d21c",
   "metadata": {},
   "outputs": [],
   "source": [
    "def age_categorize(age: int) -> str:\n",
    "    if age < 25:\n",
    "        return '-25'\n",
    "    if 25 <= age <= 30:\n",
    "        return '25-30'\n",
    "    if 31 <= age <= 40:\n",
    "        return '31-40'\n",
    "    if 41 <= age <= 50:\n",
    "        return '41-50'\n",
    "    if 51 <= age <= 60:\n",
    "        return '51-60'\n",
    "    if 61 <= age:\n",
    "        return '61+'\n",
    "\n",
    "df['age-category'] = df['age'].apply(age_categorize)\n",
    "df['age-category'] = df['age-category'].astype('category')"
   ]
  },
  {
   "cell_type": "markdown",
   "id": "57608b56-0304-474e-a77e-445e80172435",
   "metadata": {},
   "source": [
    "Native country feature will not be selected. The visualization below suggests that natives other than US will not get sufficient support."
   ]
  },
  {
   "cell_type": "code",
   "execution_count": 19,
   "id": "e8e74f06-ace2-4026-9395-c16e20d44309",
   "metadata": {},
   "outputs": [
    {
     "data": {
      "text/plain": [
       "<AxesSubplot:>"
      ]
     },
     "execution_count": 19,
     "metadata": {},
     "output_type": "execute_result"
    },
    {
     "data": {
      "image/png": "[encoded data removed]",
      "text/plain": [
       "<Figure size 432x288 with 1 Axes>"
      ]
     },
     "metadata": {
      "needs_background": "light"
     },
     "output_type": "display_data"
    }
   ],
   "source": [
    "df['native-country'].value_counts().plot.bar()"
   ]
  },
  {
   "cell_type": "code",
   "execution_count": 20,
   "id": "2207c032-6b80-4240-a68a-5a8e33d2ba0c",
   "metadata": {},
   "outputs": [
    {
     "data": {
      "text/plain": [
       "False"
      ]
     },
     "metadata": {},
     "output_type": "display_data"
    },
    {
     "data": {
      "text/html": [
       "<div>\n",
       "<style scoped>\n",
       "    .dataframe tbody tr th:only-of-type {\n",
       "        vertical-align: middle;\n",
       "    }\n",
       "\n",
       "    .dataframe tbody tr th {\n",
       "        vertical-align: top;\n",
       "    }\n",
       "\n",
       "    .dataframe thead th {\n",
       "        text-align: right;\n",
       "    }\n",
       "</style>\n",
       "<table border=\"1\" class=\"dataframe\">\n",
       "  <thead>\n",
       "    <tr style=\"text-align: right;\">\n",
       "      <th></th>\n",
       "      <th>age-category_-25</th>\n",
       "      <th>age-category_25-30</th>\n",
       "      <th>age-category_31-40</th>\n",
       "      <th>age-category_41-50</th>\n",
       "      <th>age-category_51-60</th>\n",
       "      <th>age-category_61+</th>\n",
       "      <th>marital-status_Divorced</th>\n",
       "      <th>marital-status_Married-AF-spouse</th>\n",
       "      <th>marital-status_Married-civ-spouse</th>\n",
       "      <th>marital-status_Married-spouse-absent</th>\n",
       "      <th>...</th>\n",
       "      <th>occupation_Transport-moving</th>\n",
       "      <th>occupation_unemployed</th>\n",
       "      <th>workclass_Federal-gov</th>\n",
       "      <th>workclass_Local-gov</th>\n",
       "      <th>workclass_Never-worked</th>\n",
       "      <th>workclass_Private</th>\n",
       "      <th>workclass_Self-emp-inc</th>\n",
       "      <th>workclass_Self-emp-not-inc</th>\n",
       "      <th>workclass_State-gov</th>\n",
       "      <th>workclass_Without-pay</th>\n",
       "    </tr>\n",
       "  </thead>\n",
       "  <tbody>\n",
       "    <tr>\n",
       "      <th>0</th>\n",
       "      <td>0</td>\n",
       "      <td>0</td>\n",
       "      <td>1</td>\n",
       "      <td>0</td>\n",
       "      <td>0</td>\n",
       "      <td>0</td>\n",
       "      <td>0</td>\n",
       "      <td>0</td>\n",
       "      <td>0</td>\n",
       "      <td>0</td>\n",
       "      <td>...</td>\n",
       "      <td>0</td>\n",
       "      <td>0</td>\n",
       "      <td>0</td>\n",
       "      <td>0</td>\n",
       "      <td>0</td>\n",
       "      <td>0</td>\n",
       "      <td>0</td>\n",
       "      <td>0</td>\n",
       "      <td>1</td>\n",
       "      <td>0</td>\n",
       "    </tr>\n",
       "    <tr>\n",
       "      <th>1</th>\n",
       "      <td>0</td>\n",
       "      <td>0</td>\n",
       "      <td>0</td>\n",
       "      <td>1</td>\n",
       "      <td>0</td>\n",
       "      <td>0</td>\n",
       "      <td>0</td>\n",
       "      <td>0</td>\n",
       "      <td>1</td>\n",
       "      <td>0</td>\n",
       "      <td>...</td>\n",
       "      <td>0</td>\n",
       "      <td>0</td>\n",
       "      <td>0</td>\n",
       "      <td>0</td>\n",
       "      <td>0</td>\n",
       "      <td>0</td>\n",
       "      <td>0</td>\n",
       "      <td>1</td>\n",
       "      <td>0</td>\n",
       "      <td>0</td>\n",
       "    </tr>\n",
       "    <tr>\n",
       "      <th>2</th>\n",
       "      <td>0</td>\n",
       "      <td>0</td>\n",
       "      <td>1</td>\n",
       "      <td>0</td>\n",
       "      <td>0</td>\n",
       "      <td>0</td>\n",
       "      <td>1</td>\n",
       "      <td>0</td>\n",
       "      <td>0</td>\n",
       "      <td>0</td>\n",
       "      <td>...</td>\n",
       "      <td>0</td>\n",
       "      <td>0</td>\n",
       "      <td>0</td>\n",
       "      <td>0</td>\n",
       "      <td>0</td>\n",
       "      <td>1</td>\n",
       "      <td>0</td>\n",
       "      <td>0</td>\n",
       "      <td>0</td>\n",
       "      <td>0</td>\n",
       "    </tr>\n",
       "    <tr>\n",
       "      <th>3</th>\n",
       "      <td>0</td>\n",
       "      <td>0</td>\n",
       "      <td>0</td>\n",
       "      <td>0</td>\n",
       "      <td>1</td>\n",
       "      <td>0</td>\n",
       "      <td>0</td>\n",
       "      <td>0</td>\n",
       "      <td>1</td>\n",
       "      <td>0</td>\n",
       "      <td>...</td>\n",
       "      <td>0</td>\n",
       "      <td>0</td>\n",
       "      <td>0</td>\n",
       "      <td>0</td>\n",
       "      <td>0</td>\n",
       "      <td>1</td>\n",
       "      <td>0</td>\n",
       "      <td>0</td>\n",
       "      <td>0</td>\n",
       "      <td>0</td>\n",
       "    </tr>\n",
       "    <tr>\n",
       "      <th>4</th>\n",
       "      <td>0</td>\n",
       "      <td>1</td>\n",
       "      <td>0</td>\n",
       "      <td>0</td>\n",
       "      <td>0</td>\n",
       "      <td>0</td>\n",
       "      <td>0</td>\n",
       "      <td>0</td>\n",
       "      <td>1</td>\n",
       "      <td>0</td>\n",
       "      <td>...</td>\n",
       "      <td>0</td>\n",
       "      <td>0</td>\n",
       "      <td>0</td>\n",
       "      <td>0</td>\n",
       "      <td>0</td>\n",
       "      <td>1</td>\n",
       "      <td>0</td>\n",
       "      <td>0</td>\n",
       "      <td>0</td>\n",
       "      <td>0</td>\n",
       "    </tr>\n",
       "  </tbody>\n",
       "</table>\n",
       "<p>5 rows × 45 columns</p>\n",
       "</div>"
      ],
      "text/plain": [
       "   age-category_-25  age-category_25-30  age-category_31-40  \\\n",
       "0                 0                   0                   1   \n",
       "1                 0                   0                   0   \n",
       "2                 0                   0                   1   \n",
       "3                 0                   0                   0   \n",
       "4                 0                   1                   0   \n",
       "\n",
       "   age-category_41-50  age-category_51-60  age-category_61+  \\\n",
       "0                   0                   0                 0   \n",
       "1                   1                   0                 0   \n",
       "2                   0                   0                 0   \n",
       "3                   0                   1                 0   \n",
       "4                   0                   0                 0   \n",
       "\n",
       "   marital-status_Divorced  marital-status_Married-AF-spouse  \\\n",
       "0                        0                                 0   \n",
       "1                        0                                 0   \n",
       "2                        1                                 0   \n",
       "3                        0                                 0   \n",
       "4                        0                                 0   \n",
       "\n",
       "   marital-status_Married-civ-spouse  marital-status_Married-spouse-absent  \\\n",
       "0                                  0                                     0   \n",
       "1                                  1                                     0   \n",
       "2                                  0                                     0   \n",
       "3                                  1                                     0   \n",
       "4                                  1                                     0   \n",
       "\n",
       "   ...  occupation_Transport-moving  occupation_unemployed  \\\n",
       "0  ...                            0                      0   \n",
       "1  ...                            0                      0   \n",
       "2  ...                            0                      0   \n",
       "3  ...                            0                      0   \n",
       "4  ...                            0                      0   \n",
       "\n",
       "   workclass_Federal-gov  workclass_Local-gov  workclass_Never-worked  \\\n",
       "0                      0                    0                       0   \n",
       "1                      0                    0                       0   \n",
       "2                      0                    0                       0   \n",
       "3                      0                    0                       0   \n",
       "4                      0                    0                       0   \n",
       "\n",
       "   workclass_Private  workclass_Self-emp-inc  workclass_Self-emp-not-inc  \\\n",
       "0                  0                       0                           0   \n",
       "1                  0                       0                           1   \n",
       "2                  1                       0                           0   \n",
       "3                  1                       0                           0   \n",
       "4                  1                       0                           0   \n",
       "\n",
       "   workclass_State-gov  workclass_Without-pay  \n",
       "0                    1                      0  \n",
       "1                    0                      0  \n",
       "2                    0                      0  \n",
       "3                    0                      0  \n",
       "4                    0                      0  \n",
       "\n",
       "[5 rows x 45 columns]"
      ]
     },
     "metadata": {},
     "output_type": "display_data"
    }
   ],
   "source": [
    "basket_df = pd.get_dummies(df[['age-category', 'marital-status', 'race', 'sex', 'income >50K', 'occupation', 'workclass']])\n",
    "basket_df = basket_df.rename(columns={'income >50K_0': 'income <50K', 'income >50K_1': 'income >50K'})\n",
    "basket_df = basket_df.drop(['workclass_Not-stated', 'occupation_Not-stated'], axis=1)\n",
    "display(basket_df.isnull().values.any())\n",
    "display(basket_df.head())"
   ]
  },
  {
   "cell_type": "code",
   "execution_count": 21,
   "id": "681ce44c-a059-40d4-9699-bdb8b55a49ac",
   "metadata": {},
   "outputs": [],
   "source": [
    "basket_df['capital-gain'] = df['capital-gain'].apply(lambda x: 1 if x > 0 else 0)\n",
    "basket_df['capital-loss'] = df['capital-loss'].apply(lambda x: 1 if x > 0 else 0)"
   ]
  },
  {
   "cell_type": "code",
   "execution_count": 22,
   "id": "083aa6b0-3b67-4a85-ba78-8b1111c6b9ec",
   "metadata": {},
   "outputs": [
    {
     "data": {
      "text/plain": [
       "Index(['10th', '11th', '12th', '1st-4th', '5th-6th', '7th-8th', '9th',\n",
       "       'Assoc-acdm', 'Assoc-voc', 'Bachelors', 'Doctorate', 'HS-grad',\n",
       "       'Masters', 'Preschool', 'Prof-school', 'Some-college'],\n",
       "      dtype='object')"
      ]
     },
     "execution_count": 22,
     "metadata": {},
     "output_type": "execute_result"
    }
   ],
   "source": [
    "df['education'].cat.categories"
   ]
  },
  {
   "cell_type": "code",
   "execution_count": 23,
   "id": "0ad05e6e-20f0-41b5-944e-faa55b5f8213",
   "metadata": {},
   "outputs": [
    {
     "data": {
      "text/plain": [
       "OrderedDict([(1, 'Preschool'),\n",
       "             (2, '1st-4th'),\n",
       "             (3, '5th-6th'),\n",
       "             (4, '7th-8th'),\n",
       "             (5, '9th'),\n",
       "             (6, '10th'),\n",
       "             (7, '11th'),\n",
       "             (8, '12th'),\n",
       "             (9, 'HS-grad'),\n",
       "             (10, 'Some-college'),\n",
       "             (11, 'Assoc-voc'),\n",
       "             (12, 'Assoc-acdm'),\n",
       "             (13, 'Bachelors'),\n",
       "             (14, 'Masters'),\n",
       "             (15, 'Prof-school'),\n",
       "             (16, 'Doctorate')])"
      ]
     },
     "execution_count": 23,
     "metadata": {},
     "output_type": "execute_result"
    }
   ],
   "source": [
    "education_dict_ordered"
   ]
  },
  {
   "cell_type": "code",
   "execution_count": 24,
   "id": "258a18d2-769a-47b9-b75c-7db612ee633d",
   "metadata": {},
   "outputs": [
    {
     "data": {
      "text/plain": [
       "['Masters', 'Prof-school', 'Doctorate']"
      ]
     },
     "execution_count": 24,
     "metadata": {},
     "output_type": "execute_result"
    }
   ],
   "source": [
    "basic_edu = [v for k, v in education_dict_ordered.items() if k < 10]\n",
    "higher_edu = [v for k, v in education_dict_ordered.items() if k >= 10 and k < 14]\n",
    "university_edu = [v for k, v in education_dict_ordered.items() if k >= 14]\n",
    "university_edu"
   ]
  },
  {
   "cell_type": "code",
   "execution_count": 25,
   "id": "4dc80ef9-b7f6-4d98-9ac3-c954f2e0d87e",
   "metadata": {},
   "outputs": [
    {
     "data": {
      "text/html": [
       "<div>\n",
       "<style scoped>\n",
       "    .dataframe tbody tr th:only-of-type {\n",
       "        vertical-align: middle;\n",
       "    }\n",
       "\n",
       "    .dataframe tbody tr th {\n",
       "        vertical-align: top;\n",
       "    }\n",
       "\n",
       "    .dataframe thead th {\n",
       "        text-align: right;\n",
       "    }\n",
       "</style>\n",
       "<table border=\"1\" class=\"dataframe\">\n",
       "  <thead>\n",
       "    <tr style=\"text-align: right;\">\n",
       "      <th></th>\n",
       "      <th>education_Basic</th>\n",
       "      <th>education_Higher</th>\n",
       "      <th>education_University</th>\n",
       "    </tr>\n",
       "  </thead>\n",
       "  <tbody>\n",
       "    <tr>\n",
       "      <th>0</th>\n",
       "      <td>0</td>\n",
       "      <td>1</td>\n",
       "      <td>0</td>\n",
       "    </tr>\n",
       "    <tr>\n",
       "      <th>1</th>\n",
       "      <td>0</td>\n",
       "      <td>1</td>\n",
       "      <td>0</td>\n",
       "    </tr>\n",
       "    <tr>\n",
       "      <th>2</th>\n",
       "      <td>1</td>\n",
       "      <td>0</td>\n",
       "      <td>0</td>\n",
       "    </tr>\n",
       "    <tr>\n",
       "      <th>3</th>\n",
       "      <td>1</td>\n",
       "      <td>0</td>\n",
       "      <td>0</td>\n",
       "    </tr>\n",
       "    <tr>\n",
       "      <th>4</th>\n",
       "      <td>0</td>\n",
       "      <td>1</td>\n",
       "      <td>0</td>\n",
       "    </tr>\n",
       "  </tbody>\n",
       "</table>\n",
       "</div>"
      ],
      "text/plain": [
       "   education_Basic  education_Higher  education_University\n",
       "0                0                 1                     0\n",
       "1                0                 1                     0\n",
       "2                1                 0                     0\n",
       "3                1                 0                     0\n",
       "4                0                 1                     0"
      ]
     },
     "execution_count": 25,
     "metadata": {},
     "output_type": "execute_result"
    }
   ],
   "source": [
    "basket_df['education_Basic'] = df['education'].apply(lambda x: 1 if x in basic_edu else 0)\n",
    "basket_df['education_Higher'] = df['education'].apply(lambda x: 1 if x in higher_edu else 0)\n",
    "basket_df['education_University'] = df['education'].apply(lambda x: 1 if x in university_edu else 0)\n",
    "basket_df[['education_Basic', 'education_Higher', 'education_University']].head()"
   ]
  },
  {
   "cell_type": "code",
   "execution_count": 26,
   "id": "6c1b799c-515c-4e45-b032-40155ec99bc1",
   "metadata": {
    "tags": []
   },
   "outputs": [
    {
     "data": {
      "text/html": [
       "<div>\n",
       "<style scoped>\n",
       "    .dataframe tbody tr th:only-of-type {\n",
       "        vertical-align: middle;\n",
       "    }\n",
       "\n",
       "    .dataframe tbody tr th {\n",
       "        vertical-align: top;\n",
       "    }\n",
       "\n",
       "    .dataframe thead th {\n",
       "        text-align: right;\n",
       "    }\n",
       "</style>\n",
       "<table border=\"1\" class=\"dataframe\">\n",
       "  <thead>\n",
       "    <tr style=\"text-align: right;\">\n",
       "      <th></th>\n",
       "      <th>age-category_-25</th>\n",
       "      <th>age-category_25-30</th>\n",
       "      <th>age-category_31-40</th>\n",
       "      <th>age-category_41-50</th>\n",
       "      <th>age-category_51-60</th>\n",
       "      <th>age-category_61+</th>\n",
       "      <th>marital-status_Divorced</th>\n",
       "      <th>marital-status_Married-AF-spouse</th>\n",
       "      <th>marital-status_Married-civ-spouse</th>\n",
       "      <th>marital-status_Married-spouse-absent</th>\n",
       "      <th>...</th>\n",
       "      <th>workclass_Private</th>\n",
       "      <th>workclass_Self-emp-inc</th>\n",
       "      <th>workclass_Self-emp-not-inc</th>\n",
       "      <th>workclass_State-gov</th>\n",
       "      <th>workclass_Without-pay</th>\n",
       "      <th>capital-gain</th>\n",
       "      <th>capital-loss</th>\n",
       "      <th>education_Basic</th>\n",
       "      <th>education_Higher</th>\n",
       "      <th>education_University</th>\n",
       "    </tr>\n",
       "  </thead>\n",
       "  <tbody>\n",
       "    <tr>\n",
       "      <th>0</th>\n",
       "      <td>0</td>\n",
       "      <td>0</td>\n",
       "      <td>1</td>\n",
       "      <td>0</td>\n",
       "      <td>0</td>\n",
       "      <td>0</td>\n",
       "      <td>0</td>\n",
       "      <td>0</td>\n",
       "      <td>0</td>\n",
       "      <td>0</td>\n",
       "      <td>...</td>\n",
       "      <td>0</td>\n",
       "      <td>0</td>\n",
       "      <td>0</td>\n",
       "      <td>1</td>\n",
       "      <td>0</td>\n",
       "      <td>1</td>\n",
       "      <td>0</td>\n",
       "      <td>0</td>\n",
       "      <td>1</td>\n",
       "      <td>0</td>\n",
       "    </tr>\n",
       "    <tr>\n",
       "      <th>1</th>\n",
       "      <td>0</td>\n",
       "      <td>0</td>\n",
       "      <td>0</td>\n",
       "      <td>1</td>\n",
       "      <td>0</td>\n",
       "      <td>0</td>\n",
       "      <td>0</td>\n",
       "      <td>0</td>\n",
       "      <td>1</td>\n",
       "      <td>0</td>\n",
       "      <td>...</td>\n",
       "      <td>0</td>\n",
       "      <td>0</td>\n",
       "      <td>1</td>\n",
       "      <td>0</td>\n",
       "      <td>0</td>\n",
       "      <td>0</td>\n",
       "      <td>0</td>\n",
       "      <td>0</td>\n",
       "      <td>1</td>\n",
       "      <td>0</td>\n",
       "    </tr>\n",
       "    <tr>\n",
       "      <th>2</th>\n",
       "      <td>0</td>\n",
       "      <td>0</td>\n",
       "      <td>1</td>\n",
       "      <td>0</td>\n",
       "      <td>0</td>\n",
       "      <td>0</td>\n",
       "      <td>1</td>\n",
       "      <td>0</td>\n",
       "      <td>0</td>\n",
       "      <td>0</td>\n",
       "      <td>...</td>\n",
       "      <td>1</td>\n",
       "      <td>0</td>\n",
       "      <td>0</td>\n",
       "      <td>0</td>\n",
       "      <td>0</td>\n",
       "      <td>0</td>\n",
       "      <td>0</td>\n",
       "      <td>1</td>\n",
       "      <td>0</td>\n",
       "      <td>0</td>\n",
       "    </tr>\n",
       "    <tr>\n",
       "      <th>3</th>\n",
       "      <td>0</td>\n",
       "      <td>0</td>\n",
       "      <td>0</td>\n",
       "      <td>0</td>\n",
       "      <td>1</td>\n",
       "      <td>0</td>\n",
       "      <td>0</td>\n",
       "      <td>0</td>\n",
       "      <td>1</td>\n",
       "      <td>0</td>\n",
       "      <td>...</td>\n",
       "      <td>1</td>\n",
       "      <td>0</td>\n",
       "      <td>0</td>\n",
       "      <td>0</td>\n",
       "      <td>0</td>\n",
       "      <td>0</td>\n",
       "      <td>0</td>\n",
       "      <td>1</td>\n",
       "      <td>0</td>\n",
       "      <td>0</td>\n",
       "    </tr>\n",
       "    <tr>\n",
       "      <th>4</th>\n",
       "      <td>0</td>\n",
       "      <td>1</td>\n",
       "      <td>0</td>\n",
       "      <td>0</td>\n",
       "      <td>0</td>\n",
       "      <td>0</td>\n",
       "      <td>0</td>\n",
       "      <td>0</td>\n",
       "      <td>1</td>\n",
       "      <td>0</td>\n",
       "      <td>...</td>\n",
       "      <td>1</td>\n",
       "      <td>0</td>\n",
       "      <td>0</td>\n",
       "      <td>0</td>\n",
       "      <td>0</td>\n",
       "      <td>0</td>\n",
       "      <td>0</td>\n",
       "      <td>0</td>\n",
       "      <td>1</td>\n",
       "      <td>0</td>\n",
       "    </tr>\n",
       "  </tbody>\n",
       "</table>\n",
       "<p>5 rows × 50 columns</p>\n",
       "</div>"
      ],
      "text/plain": [
       "   age-category_-25  age-category_25-30  age-category_31-40  \\\n",
       "0                 0                   0                   1   \n",
       "1                 0                   0                   0   \n",
       "2                 0                   0                   1   \n",
       "3                 0                   0                   0   \n",
       "4                 0                   1                   0   \n",
       "\n",
       "   age-category_41-50  age-category_51-60  age-category_61+  \\\n",
       "0                   0                   0                 0   \n",
       "1                   1                   0                 0   \n",
       "2                   0                   0                 0   \n",
       "3                   0                   1                 0   \n",
       "4                   0                   0                 0   \n",
       "\n",
       "   marital-status_Divorced  marital-status_Married-AF-spouse  \\\n",
       "0                        0                                 0   \n",
       "1                        0                                 0   \n",
       "2                        1                                 0   \n",
       "3                        0                                 0   \n",
       "4                        0                                 0   \n",
       "\n",
       "   marital-status_Married-civ-spouse  marital-status_Married-spouse-absent  \\\n",
       "0                                  0                                     0   \n",
       "1                                  1                                     0   \n",
       "2                                  0                                     0   \n",
       "3                                  1                                     0   \n",
       "4                                  1                                     0   \n",
       "\n",
       "   ...  workclass_Private  workclass_Self-emp-inc  workclass_Self-emp-not-inc  \\\n",
       "0  ...                  0                       0                           0   \n",
       "1  ...                  0                       0                           1   \n",
       "2  ...                  1                       0                           0   \n",
       "3  ...                  1                       0                           0   \n",
       "4  ...                  1                       0                           0   \n",
       "\n",
       "   workclass_State-gov  workclass_Without-pay  capital-gain  capital-loss  \\\n",
       "0                    1                      0             1             0   \n",
       "1                    0                      0             0             0   \n",
       "2                    0                      0             0             0   \n",
       "3                    0                      0             0             0   \n",
       "4                    0                      0             0             0   \n",
       "\n",
       "   education_Basic  education_Higher  education_University  \n",
       "0                0                 1                     0  \n",
       "1                0                 1                     0  \n",
       "2                1                 0                     0  \n",
       "3                1                 0                     0  \n",
       "4                0                 1                     0  \n",
       "\n",
       "[5 rows x 50 columns]"
      ]
     },
     "execution_count": 26,
     "metadata": {},
     "output_type": "execute_result"
    }
   ],
   "source": [
    "basket_df.head()"
   ]
  },
  {
   "cell_type": "code",
   "execution_count": 27,
   "id": "a86c3ca7-cb69-4ded-8ab2-9b15a75b0136",
   "metadata": {
    "tags": []
   },
   "outputs": [
    {
     "data": {
      "text/plain": [
       "0        0\n",
       "1        0\n",
       "2        0\n",
       "3        0\n",
       "4        0\n",
       "        ..\n",
       "32556    0\n",
       "32557    0\n",
       "32558    0\n",
       "32559    1\n",
       "32560    0\n",
       "Name: conj, Length: 32561, dtype: uint8"
      ]
     },
     "execution_count": 27,
     "metadata": {},
     "output_type": "execute_result"
    }
   ],
   "source": [
    "def union(df, *itemset) -> pd.DataFrame:\n",
    "    tmp_df = pd.DataFrame()\n",
    "    tmp_df['conj'] = df[itemset[0]]\n",
    "    for item in itemset:\n",
    "        tmp_df['conj'] *= df[item]\n",
    "    return tmp_df['conj']\n",
    "\n",
    "union(basket_df, 'age-category_-25', 'sex_Male')"
   ]
  },
  {
   "cell_type": "code",
   "execution_count": 28,
   "id": "3d8ce58f-7536-4eb3-a03e-5b6b3bec400a",
   "metadata": {},
   "outputs": [
    {
     "data": {
      "text/plain": [
       "True"
      ]
     },
     "execution_count": 28,
     "metadata": {},
     "output_type": "execute_result"
    }
   ],
   "source": [
    "def support(df, *itemset) -> float:\n",
    "    \"\"\"\n",
    "    frequency of conjunction of given items\n",
    "    \n",
    "    features: list(str)\n",
    "    df: pandas.DataFrame\n",
    "    return: float\n",
    "    \"\"\"\n",
    "    return sum(union(df, *itemset))/len(df.index)\n",
    "\n",
    "# test\n",
    "support(basket_df, 'age-category_-25') == basket_df['age-category_-25'].sum()/basket_df['age-category_-25'].count()"
   ]
  },
  {
   "cell_type": "code",
   "execution_count": 29,
   "id": "22916c32-bf5e-415b-99ba-32a4f852f9c0",
   "metadata": {},
   "outputs": [
    {
     "data": {
      "text/plain": [
       "0.01095152603231598"
      ]
     },
     "execution_count": 29,
     "metadata": {},
     "output_type": "execute_result"
    }
   ],
   "source": [
    "def confidence(df, X: List[str], Y: List[str]) -> float:\n",
    "    \"\"\"\n",
    "    likelihood of Y given X\n",
    "    X: itemset\n",
    "    Y: itemset\n",
    "    \"\"\"\n",
    "    return support(df, *[*X, *Y])/support(df, *X)\n",
    "\n",
    "confidence(basket_df, ['age-category_-25'], ['income >50K'])"
   ]
  },
  {
   "cell_type": "code",
   "execution_count": 30,
   "id": "a732fa08-91ca-4834-84de-977a013edf64",
   "metadata": {},
   "outputs": [
    {
     "data": {
      "text/plain": [
       "1.0624990944739086"
      ]
     },
     "execution_count": 30,
     "metadata": {},
     "output_type": "execute_result"
    }
   ],
   "source": [
    "def lift(df, X: List[str], Y: List[str]) -> float:\n",
    "    \"\"\"\n",
    "    likelihood of Y given X, taking into account the frequency of Y\n",
    "    \"\"\"\n",
    "    return support(df, *[*X, *Y])/(support(df, *X) * support(df, *Y))\n",
    "    \n",
    "\n",
    "lift(basket_df, ['race_White'], ['income >50K'])"
   ]
  },
  {
   "cell_type": "code",
   "execution_count": 31,
   "id": "c26dcfa9-30ea-46fa-a41d-c99dcabb5cd2",
   "metadata": {},
   "outputs": [
    {
     "data": {
      "text/plain": [
       "age-category_-25                     0.171064\n",
       "age-category_25-30                   0.153619\n",
       "age-category_31-40                   0.262461\n",
       "age-category_41-50                   0.214459\n",
       "age-category_51-60                   0.126777\n",
       "age-category_61+                     0.071619\n",
       "marital-status_Divorced              0.136452\n",
       "marital-status_Married-civ-spouse    0.459937\n",
       "marital-status_Never-married         0.328092\n",
       "race_Black                           0.095943\n",
       "race_White                           0.854274\n",
       "sex_Female                           0.330795\n",
       "sex_Male                             0.669205\n",
       "income <50K                          0.759190\n",
       "income >50K                          0.240810\n",
       "occupation_Adm-clerical              0.115783\n",
       "occupation_Craft-repair              0.125887\n",
       "occupation_Exec-managerial           0.124873\n",
       "occupation_Machine-op-inspct         0.061485\n",
       "occupation_Other-service             0.101195\n",
       "occupation_Prof-specialty            0.127146\n",
       "occupation_Sales                     0.112097\n",
       "workclass_Local-gov                  0.064279\n",
       "workclass_Private                    0.697030\n",
       "workclass_Self-emp-not-inc           0.078038\n",
       "capital-gain                         0.083290\n",
       "education_Basic                      0.453119\n",
       "education_Higher                     0.463591\n",
       "education_University                 0.083290\n",
       "dtype: float64"
      ]
     },
     "execution_count": 31,
     "metadata": {},
     "output_type": "execute_result"
    }
   ],
   "source": [
    "supp_threshold = 0.05\n",
    "\n",
    "# steap 1-2\n",
    "frequencies = basket_df.sum()/len(basket_df.index) # support table\n",
    "frequencies = frequencies[frequencies > supp_threshold] # filter threshold\n",
    "frequencies"
   ]
  },
  {
   "cell_type": "code",
   "execution_count": 32,
   "id": "0f125225-b1ee-4e99-9483-8e58ed058acb",
   "metadata": {},
   "outputs": [
    {
     "data": {
      "text/plain": [
       "[('age-category_-25', 'age-category_25-30'),\n",
       " ('age-category_-25', 'age-category_31-40'),\n",
       " ('age-category_-25', 'age-category_41-50'),\n",
       " ('age-category_-25', 'age-category_51-60'),\n",
       " ('age-category_-25', 'age-category_61+')]"
      ]
     },
     "execution_count": 32,
     "metadata": {},
     "output_type": "execute_result"
    }
   ],
   "source": [
    "# step 3 create combination pairs\n",
    "itemset = [*itertools.combinations(frequencies.index, 2)]\n",
    "itemset[0:5]"
   ]
  },
  {
   "cell_type": "code",
   "execution_count": 33,
   "id": "7f705aa7-664a-41c9-be3d-c9dd3a881057",
   "metadata": {},
   "outputs": [
    {
     "data": {
      "text/plain": [
       "(age-category_-25, age-category_25-30)      0.000000\n",
       "(age-category_-25, age-category_31-40)      0.000000\n",
       "(age-category_-25, age-category_41-50)      0.000000\n",
       "(age-category_-25, age-category_51-60)      0.000000\n",
       "(age-category_-25, age-category_61+)        0.000000\n",
       "                                              ...   \n",
       "(capital-gain, education_Higher)            0.040601\n",
       "(capital-gain, education_University)        0.015325\n",
       "(education_Basic, education_Higher)         0.000000\n",
       "(education_Basic, education_University)     0.000000\n",
       "(education_Higher, education_University)    0.000000\n",
       "Length: 406, dtype: float64"
      ]
     },
     "execution_count": 33,
     "metadata": {},
     "output_type": "execute_result"
    }
   ],
   "source": [
    "freqs = pd.Series(data= [support(basket_df, *x) for x in itemset], index=itemset)\n",
    "freqs"
   ]
  },
  {
   "cell_type": "code",
   "execution_count": 34,
   "id": "592896e0-8227-486a-b3b6-aa47b54523ac",
   "metadata": {},
   "outputs": [],
   "source": [
    "def apriori_rules(df: pd.DataFrame, threshold: int, ceiling=math.inf):\n",
    "    r = 2\n",
    "    frequencies = pd.Series(data=[support(df, x) for x in df.columns], index=df.columns)\n",
    "    frequencies = frequencies[frequencies > threshold] # filter threshold\n",
    "    items = {x for x in frequencies.index}\n",
    "    itemset = {frozenset(x) for x in itertools.combinations(items, r)}\n",
    "    rules = pd.Series(data= [support(df, *x) for x in itemset], index=itemset, dtype='float64')\n",
    "    rules = rules[rules > threshold]\n",
    "    r += 1\n",
    "    check_subsets = set()\n",
    "    while r < ceiling:\n",
    "        print(r, end='\\r')\n",
    "        itemset = {frozenset(x) for x in itertools.combinations(items, r) if not any([a.issubset(frozenset(x)) for a in check_subsets])}\n",
    "        new_rules = pd.Series(dtype='float64')\n",
    "        check_subsets = set()\n",
    "        items = set()\n",
    "        for x in itemset:\n",
    "            supp = support(df, *x)\n",
    "            if supp > threshold:\n",
    "                items = items.union(x)\n",
    "                new_rules = new_rules.append(pd.Series([supp], index=[x]))\n",
    "            else:\n",
    "                check_subsets.add(x)      \n",
    "        if len(new_rules) == 0:\n",
    "            return rules\n",
    "        rules = rules.append(new_rules)\n",
    "        r += 1\n",
    "    print(end='\\n')\n",
    "    return rules\n",
    "    "
   ]
  },
  {
   "cell_type": "code",
   "execution_count": 35,
   "id": "0022e4c7-487d-4084-b2e5-cee18e6fee79",
   "metadata": {},
   "outputs": [
    {
     "name": "stdout",
     "output_type": "stream",
     "text": [
      "7\r"
     ]
    },
    {
     "data": {
      "text/plain": [
       "635"
      ]
     },
     "execution_count": 35,
     "metadata": {},
     "output_type": "execute_result"
    }
   ],
   "source": [
    "rules = apriori_rules(basket_df, 0.05)\n",
    "len(rules)"
   ]
  },
  {
   "cell_type": "code",
   "execution_count": 36,
   "id": "07713ce1-aabb-4902-9fd3-d4a9505a3505",
   "metadata": {},
   "outputs": [
    {
     "data": {
      "text/plain": [
       "(60, 243)"
      ]
     },
     "execution_count": 36,
     "metadata": {},
     "output_type": "execute_result"
    }
   ],
   "source": [
    "income_indices_over50k = [x for x in rules.index if 'income >50K' in x]\n",
    "income_indices_under50k = [x for x in rules.index if 'income <50K' in x]\n",
    "len(income_indices_over50k), len(income_indices_under50k)"
   ]
  },
  {
   "cell_type": "code",
   "execution_count": 37,
   "id": "e211a59f-4ed6-4cb1-8a0c-f1e3e15ace8f",
   "metadata": {},
   "outputs": [],
   "source": [
    "income_indices_over50k[0].difference(['income >50K'])\n",
    "\n",
    "lift_over50k = pd.DataFrame(data = { 'lift': [lift(basket_df, x.difference(['income >50K']), ['income >50K']) for x in income_indices_over50k], 'confidence': [confidence(basket_df, x.difference(['income >50K']), ['income >50K']) for x in income_indices_over50k], 'support': [support(basket_df, *x) for x in income_indices_over50k]}, index=income_indices_over50k)\n",
    "lift_under50k = pd.DataFrame(data = { 'lift': [lift(basket_df, x.difference(['income <50K']), ['income <50K']) for x in income_indices_under50k], 'confidence':  [confidence(basket_df, x.difference(['income <50K']), ['income <50K']) for x in income_indices_under50k], 'support': [support(basket_df, *x) for x in income_indices_under50k]}, index=income_indices_under50k)"
   ]
  },
  {
   "cell_type": "markdown",
   "id": "f9c65800-24d9-4308-8378-bb1cde27a0fd",
   "metadata": {},
   "source": [
    "## Results and interpretation"
   ]
  },
  {
   "cell_type": "code",
   "execution_count": 41,
   "id": "6af5e1dd-9e5d-49c0-a331-0eb345da8d3a",
   "metadata": {},
   "outputs": [
    {
     "data": {
      "text/html": [
       "<div>\n",
       "<style scoped>\n",
       "    .dataframe tbody tr th:only-of-type {\n",
       "        vertical-align: middle;\n",
       "    }\n",
       "\n",
       "    .dataframe tbody tr th {\n",
       "        vertical-align: top;\n",
       "    }\n",
       "\n",
       "    .dataframe thead th {\n",
       "        text-align: right;\n",
       "    }\n",
       "</style>\n",
       "<table border=\"1\" class=\"dataframe\">\n",
       "  <thead>\n",
       "    <tr style=\"text-align: right;\">\n",
       "      <th></th>\n",
       "      <th>lift</th>\n",
       "      <th>confidence</th>\n",
       "      <th>support</th>\n",
       "    </tr>\n",
       "  </thead>\n",
       "  <tbody>\n",
       "    <tr>\n",
       "      <th>(marital-status_Married-civ-spouse, income &gt;50K, occupation_Exec-managerial)</th>\n",
       "      <td>2.830741</td>\n",
       "      <td>0.681669</td>\n",
       "      <td>0.051166</td>\n",
       "    </tr>\n",
       "    <tr>\n",
       "      <th>(income &gt;50K, education_University)</th>\n",
       "      <td>2.584693</td>\n",
       "      <td>0.622419</td>\n",
       "      <td>0.051841</td>\n",
       "    </tr>\n",
       "    <tr>\n",
       "      <th>(income &gt;50K, capital-gain)</th>\n",
       "      <td>2.567850</td>\n",
       "      <td>0.618363</td>\n",
       "      <td>0.051503</td>\n",
       "    </tr>\n",
       "    <tr>\n",
       "      <th>(sex_Male, income &gt;50K, occupation_Exec-managerial)</th>\n",
       "      <td>2.411314</td>\n",
       "      <td>0.580667</td>\n",
       "      <td>0.051841</td>\n",
       "    </tr>\n",
       "    <tr>\n",
       "      <th>(income &gt;50K, sex_Male, age-category_41-50, marital-status_Married-civ-spouse, race_White)</th>\n",
       "      <td>2.316760</td>\n",
       "      <td>0.557898</td>\n",
       "      <td>0.057707</td>\n",
       "    </tr>\n",
       "  </tbody>\n",
       "</table>\n",
       "</div>"
      ],
      "text/plain": [
       "                                                        lift  confidence  \\\n",
       "(marital-status_Married-civ-spouse, income >50K...  2.830741    0.681669   \n",
       "(income >50K, education_University)                 2.584693    0.622419   \n",
       "(income >50K, capital-gain)                         2.567850    0.618363   \n",
       "(sex_Male, income >50K, occupation_Exec-manager...  2.411314    0.580667   \n",
       "(income >50K, sex_Male, age-category_41-50, mar...  2.316760    0.557898   \n",
       "\n",
       "                                                     support  \n",
       "(marital-status_Married-civ-spouse, income >50K...  0.051166  \n",
       "(income >50K, education_University)                 0.051841  \n",
       "(income >50K, capital-gain)                         0.051503  \n",
       "(sex_Male, income >50K, occupation_Exec-manager...  0.051841  \n",
       "(income >50K, sex_Male, age-category_41-50, mar...  0.057707  "
      ]
     },
     "execution_count": 41,
     "metadata": {},
     "output_type": "execute_result"
    }
   ],
   "source": [
    "lift_over50k.sort_values(['lift', 'confidence', 'support'], ascending=[False, False, False]).head(5)"
   ]
  },
  {
   "cell_type": "code",
   "execution_count": 42,
   "id": "ce9f0d54-2725-48ef-8633-463774074e54",
   "metadata": {},
   "outputs": [
    {
     "data": {
      "text/html": [
       "<div>\n",
       "<style scoped>\n",
       "    .dataframe tbody tr th:only-of-type {\n",
       "        vertical-align: middle;\n",
       "    }\n",
       "\n",
       "    .dataframe tbody tr th {\n",
       "        vertical-align: top;\n",
       "    }\n",
       "\n",
       "    .dataframe thead th {\n",
       "        text-align: right;\n",
       "    }\n",
       "</style>\n",
       "<table border=\"1\" class=\"dataframe\">\n",
       "  <thead>\n",
       "    <tr style=\"text-align: right;\">\n",
       "      <th></th>\n",
       "      <th>lift</th>\n",
       "      <th>confidence</th>\n",
       "      <th>support</th>\n",
       "    </tr>\n",
       "  </thead>\n",
       "  <tbody>\n",
       "    <tr>\n",
       "      <th>(education_Basic, marital-status_Never-married, income &lt;50K, age-category_-25, workclass_Private, race_White)</th>\n",
       "      <td>1.316415</td>\n",
       "      <td>0.999410</td>\n",
       "      <td>0.051995</td>\n",
       "    </tr>\n",
       "    <tr>\n",
       "      <th>(education_Basic, marital-status_Never-married, income &lt;50K, age-category_-25, workclass_Private)</th>\n",
       "      <td>1.315855</td>\n",
       "      <td>0.998984</td>\n",
       "      <td>0.060410</td>\n",
       "    </tr>\n",
       "    <tr>\n",
       "      <th>(sex_Female, marital-status_Never-married, income &lt;50K, age-category_-25, race_White)</th>\n",
       "      <td>1.315137</td>\n",
       "      <td>0.998439</td>\n",
       "      <td>0.058936</td>\n",
       "    </tr>\n",
       "    <tr>\n",
       "      <th>(education_Basic, marital-status_Never-married, income &lt;50K, age-category_-25, race_White)</th>\n",
       "      <td>1.314574</td>\n",
       "      <td>0.998012</td>\n",
       "      <td>0.061669</td>\n",
       "    </tr>\n",
       "    <tr>\n",
       "      <th>(marital-status_Never-married, income &lt;50K, age-category_-25, workclass_Private, race_White)</th>\n",
       "      <td>1.314427</td>\n",
       "      <td>0.997900</td>\n",
       "      <td>0.102177</td>\n",
       "    </tr>\n",
       "  </tbody>\n",
       "</table>\n",
       "</div>"
      ],
      "text/plain": [
       "                                                        lift  confidence  \\\n",
       "(education_Basic, marital-status_Never-married,...  1.316415    0.999410   \n",
       "(education_Basic, marital-status_Never-married,...  1.315855    0.998984   \n",
       "(sex_Female, marital-status_Never-married, inco...  1.315137    0.998439   \n",
       "(education_Basic, marital-status_Never-married,...  1.314574    0.998012   \n",
       "(marital-status_Never-married, income <50K, age...  1.314427    0.997900   \n",
       "\n",
       "                                                     support  \n",
       "(education_Basic, marital-status_Never-married,...  0.051995  \n",
       "(education_Basic, marital-status_Never-married,...  0.060410  \n",
       "(sex_Female, marital-status_Never-married, inco...  0.058936  \n",
       "(education_Basic, marital-status_Never-married,...  0.061669  \n",
       "(marital-status_Never-married, income <50K, age...  0.102177  "
      ]
     },
     "execution_count": 42,
     "metadata": {},
     "output_type": "execute_result"
    }
   ],
   "source": [
    "lift_under50k.sort_values(['lift', 'confidence', 'support'], ascending=[False, False, False]).head(5)"
   ]
  },
  {
   "cell_type": "code",
   "execution_count": 40,
   "id": "80025f04-9ff7-40d1-bf27-e0ce29a31c0a",
   "metadata": {},
   "outputs": [],
   "source": [
    "lift_over50k.to_csv('data/mba_over50k.csv')\n",
    "lift_under50k.to_csv('data/mba_under50k.csv')"
   ]
  },
  {
   "cell_type": "markdown",
   "id": "6f4a6aad-6b47-42fc-8874-a1f62cee044a",
   "metadata": {},
   "source": [
    "The tables show that all identified relationship suffer from shortcomings. The high lifts for income over 50K may indicate high strengths of those relationships, however, the confidence is low.\n",
    "Even though the confidences in the under 50K table are near 1, the lifts around 1.3 point to arguably weak links."
   ]
  },
  {
   "cell_type": "code",
   "execution_count": null,
   "id": "61af2cdd-5476-4a8b-bbb3-964e5b0b949d",
   "metadata": {},
   "outputs": [],
   "source": []
  }
 ],
 "metadata": {
  "kernelspec": {
   "display_name": "Python 3",
   "language": "python",
   "name": "python3"
  },
  "language_info": {
   "codemirror_mode": {
    "name": "ipython",
    "version": 3
   },
   "file_extension": ".py",
   "mimetype": "text/x-python",
   "name": "python",
   "nbconvert_exporter": "python",
   "pygments_lexer": "ipython3",
   "version": "3.8.5"
  }
 },
 "nbformat": 4,
 "nbformat_minor": 5
}
